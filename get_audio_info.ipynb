{
 "cells": [
  {
   "cell_type": "code",
   "execution_count": 3,
   "metadata": {},
   "outputs": [
    {
     "data": {
      "text/plain": [
       "b'<?xml version=\"1.0\" encoding=\"UTF-8\"?>\\n<ffprobe>\\n    <streams>\\n        <stream index=\"0\" codec_name=\"pcm_s16le\" codec_long_name=\"PCM signed 16-bit little-endian\" codec_type=\"audio\" codec_time_base=\"1/44100\" codec_tag_string=\"[1][0][0][0]\" codec_tag=\"0x0001\" sample_fmt=\"s16\" sample_rate=\"44100\" channels=\"1\" bits_per_sample=\"16\" r_frame_rate=\"0/0\" avg_frame_rate=\"0/0\" time_base=\"1/44100\" duration_ts=\"447704\" duration=\"10.152018\" bit_rate=\"705600\">\\n            <disposition default=\"0\" dub=\"0\" original=\"0\" comment=\"0\" lyrics=\"0\" karaoke=\"0\" forced=\"0\" hearing_impaired=\"0\" visual_impaired=\"0\" clean_effects=\"0\" attached_pic=\"0\" timed_thumbnails=\"0\"/>\\n        </stream>\\n    </streams>\\n</ffprobe>\\n'"
      ]
     },
     "execution_count": 3,
     "metadata": {},
     "output_type": "execute_result"
    }
   ],
   "source": [
    "import os\n",
    "import subprocess\n",
    "def ffprobe(filename):\n",
    "    import subprocess\n",
    "    command = [\"ffprobe\", \"-v\", \"error\", \"-show_streams\", \"-print_format\", \"xml\", filename]\n",
    "    xml = subprocess.check_output(command)\n",
    "    return xml\n",
    "\n",
    "def get_markers(video_file):\n",
    "    xml = ffprobe(str(video_file))\n",
    "    \n",
    "    found = str(xml).find('\"audio\" codec_time_base')\n",
    "    mp = str(xml)[found+25:found+32] # 1/48000\n",
    "    \n",
    "    found = str(xml).find('display_aspect_ratio')\n",
    "    if found >= 0:\n",
    "        ar = str(xml)[found+22:found+26] # 16:9\n",
    "    else:\n",
    "        ar = None\n",
    "    \n",
    "    return ar, mp\n",
    "ffprobe('./sample2/td.wav')"
   ]
  }
 ],
 "metadata": {
  "kernelspec": {
   "display_name": "Python 3",
   "language": "python",
   "name": "python3"
  },
  "language_info": {
   "codemirror_mode": {
    "name": "ipython",
    "version": 3
   },
   "file_extension": ".py",
   "mimetype": "text/x-python",
   "name": "python",
   "nbconvert_exporter": "python",
   "pygments_lexer": "ipython3",
   "version": "3.7.3"
  }
 },
 "nbformat": 4,
 "nbformat_minor": 2
}
